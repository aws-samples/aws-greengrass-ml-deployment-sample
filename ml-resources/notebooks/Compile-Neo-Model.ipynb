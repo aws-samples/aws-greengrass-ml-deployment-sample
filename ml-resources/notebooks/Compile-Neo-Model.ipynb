{
 "cells": [
  {
   "cell_type": "markdown",
   "metadata": {},
   "source": [
    "# Compile a Keras model with Sagemaker Neo for inference on Greengrass"
   ]
  },
  {
   "cell_type": "markdown",
   "metadata": {},
   "source": [
    "Make sure you use the conda_tensorflow2_p36 kernel in SageMaker for this notebook!"
   ]
  },
  {
   "cell_type": "markdown",
   "metadata": {},
   "source": [
    "For our sample image classification task we will use a pretrained [MobileNetV2](https://arxiv.org/abs/1801.04381) model from the [Keras applications](https://github.com/keras-team/keras-applications) module.\n",
    "For a real world use case we would [fine-tune](https://www.tensorflow.org/tutorials/images/transfer_learning) the pretrained model based custom images and labels for our business problem. However as we are mostly focused on the deployment aspect, we will skip this step here!"
   ]
  },
  {
   "cell_type": "markdown",
   "metadata": {},
   "source": [
    "## Downloading and saving the model \n",
    "\n",
    "As a first step we will download the model and save it in Keras in [HDF5](https://en.wikipedia.org/wiki/Hierarchical_Data_Format) format. Make sure to specify a bucket where to upload the model in the next cell!"
   ]
  },
  {
   "cell_type": "code",
   "execution_count": 1,
   "metadata": {},
   "outputs": [],
   "source": [
    "#BUCKET = '<your_bucket_name>''\n",
    "BUCKET = 'ml-gg-deployment-sample'"
   ]
  },
  {
   "cell_type": "code",
   "execution_count": 2,
   "metadata": {},
   "outputs": [
    {
     "name": "stdout",
     "output_type": "stream",
     "text": [
      "model.h5\n"
     ]
    }
   ],
   "source": [
    "import boto3\n",
    "import tensorflow as tf\n",
    "\n",
    "IMG_SIZE = 224\n",
    "IMAGE_SHAPE = (IMG_SIZE,IMG_SIZE,3)\n",
    "\n",
    "# start clean in case of rerunning this cell\n",
    "tf.keras.backend.clear_session()\n",
    "\n",
    "classifier = tf.keras.applications.MobileNetV2(input_shape=IMAGE_SHAPE,\n",
    "                                               include_top=True,\n",
    "                                               weights='imagenet')\n",
    "classifier.save(\"model.h5\",save_format='h5')\n",
    "!tar -zcvf model.tar.gz model.h5"
   ]
  },
  {
   "cell_type": "markdown",
   "metadata": {},
   "source": [
    "Upload compressed model to S3"
   ]
  },
  {
   "cell_type": "code",
   "execution_count": 3,
   "metadata": {},
   "outputs": [],
   "source": [
    "model_key = 'models/mobilenet-keras/model.tar.gz'\n",
    "boto3.resource('s3').Bucket(BUCKET).upload_file('model.tar.gz', model_key)"
   ]
  },
  {
   "cell_type": "markdown",
   "metadata": {},
   "source": [
    "# Compile model the model using Sagemaker Neo"
   ]
  },
  {
   "cell_type": "markdown",
   "metadata": {},
   "source": [
    "In order to optimize the model for inference on Greegrass we will use [Sagemaker Neo](https://docs.aws.amazon.com/sagemaker/latest/dg/neo.html) to compile the model into the format required by the SageMaker Neo runtime."
   ]
  },
  {
   "cell_type": "code",
   "execution_count": 4,
   "metadata": {},
   "outputs": [],
   "source": [
    "import sagemaker\n",
    "import time\n",
    "from sagemaker.utils import name_from_base\n",
    "\n",
    "role = sagemaker.get_execution_role()\n",
    "sess = sagemaker.Session()\n",
    "region = sess.boto_region_name\n",
    "sm_client = boto3.client('sagemaker')\n"
   ]
  },
  {
   "cell_type": "markdown",
   "metadata": {},
   "source": [
    "Now we will kick off the SageMaker Neo compilation job. Check here for [supported frameworks](https://aws.amazon.com/releasenotes/sagemaker-neo-supported-frameworks-and-operators/) and [hardware platforms](https://aws.amazon.com/releasenotes/sagemaker-neo-supported-target-platforms-and-compiler-options/)."
   ]
  },
  {
   "cell_type": "code",
   "execution_count": 5,
   "metadata": {},
   "outputs": [
    {
     "name": "stdout",
     "output_type": "stream",
     "text": [
      "{'CompilationJobArn': 'arn:aws:sagemaker:eu-west-1:828266890613:compilation-job/tf-mobilenetv2-neo-2020-08-26-13-49-32-828', 'ResponseMetadata': {'RequestId': '67dd244d-a9a6-4698-bede-c6b586be6490', 'HTTPStatusCode': 200, 'HTTPHeaders': {'x-amzn-requestid': '67dd244d-a9a6-4698-bede-c6b586be6490', 'content-type': 'application/x-amz-json-1.1', 'content-length': '123', 'date': 'Wed, 26 Aug 2020 13:49:32 GMT'}, 'RetryAttempts': 0}}\n",
      "Compiling ...\n",
      "Compiling ...\n",
      "Compiling ...\n",
      "Done!\n"
     ]
    }
   ],
   "source": [
    "# create job name with timestamp\n",
    "compilation_job_name = name_from_base('tf-mobilenetv2-neo')\n",
    "data_shape = '{\"input_1\":[1,3,224,224]}'\n",
    "target_device = 'ml_c5'\n",
    "framework = 'KERAS'\n",
    "framework_version = '2.3.1'\n",
    "compiled_model_path = 's3://{}/models/mobilenet-neo/{}/'.format(BUCKET, compilation_job_name)\n",
    "model_path = 's3://{}/{}'.format(BUCKET, model_key)\n",
    "\n",
    "response = sm_client.create_compilation_job(\n",
    "    CompilationJobName=compilation_job_name,\n",
    "    RoleArn=role,\n",
    "    InputConfig={\n",
    "        'S3Uri': model_path,\n",
    "        'DataInputConfig': data_shape,\n",
    "        'Framework': framework\n",
    "    },\n",
    "    OutputConfig={\n",
    "        'S3OutputLocation': compiled_model_path,\n",
    "        'TargetDevice': target_device\n",
    "    },\n",
    "    StoppingCondition={\n",
    "        'MaxRuntimeInSeconds': 300\n",
    "    }\n",
    ")\n",
    "print(response)\n",
    "\n",
    "# Poll every 30 sec\n",
    "while True:\n",
    "    response = sm_client.describe_compilation_job(CompilationJobName=compilation_job_name)\n",
    "    if response['CompilationJobStatus'] == 'COMPLETED':\n",
    "        break\n",
    "    elif response['CompilationJobStatus'] == 'FAILED':\n",
    "        raise RuntimeError('Compilation failed')\n",
    "    print('Compiling ...')\n",
    "    time.sleep(30)\n",
    "print('Done!')\n",
    "\n",
    "# Extract compiled model artifact\n",
    "compiled_model_path = response['ModelArtifacts']['S3ModelArtifacts']"
   ]
  },
  {
   "cell_type": "markdown",
   "metadata": {},
   "source": [
    "Copy to static location in S3 bucket"
   ]
  },
  {
   "cell_type": "code",
   "execution_count": 6,
   "metadata": {},
   "outputs": [
    {
     "name": "stdout",
     "output_type": "stream",
     "text": [
      "copy: s3://ml-gg-deployment-sample/models/mobilenet-neo/tf-mobilenetv2-neo-2020-08-26-13-49-32-828/model-ml_c5.tar.gz to s3://ml-gg-deployment-sample/ml_resources/neo/model.tar.gz\n"
     ]
    }
   ],
   "source": [
    "!aws s3 cp $compiled_model_path s3://$BUCKET/ml_resources/neo/model.tar.gz"
   ]
  },
  {
   "cell_type": "code",
   "execution_count": null,
   "metadata": {},
   "outputs": [],
   "source": []
  }
 ],
 "metadata": {
  "kernelspec": {
   "display_name": "conda_tensorflow2_p36",
   "language": "python",
   "name": "conda_tensorflow2_p36"
  },
  "language_info": {
   "codemirror_mode": {
    "name": "ipython",
    "version": 3
   },
   "file_extension": ".py",
   "mimetype": "text/x-python",
   "name": "python",
   "nbconvert_exporter": "python",
   "pygments_lexer": "ipython3",
   "version": "3.6.10"
  }
 },
 "nbformat": 4,
 "nbformat_minor": 4
}
